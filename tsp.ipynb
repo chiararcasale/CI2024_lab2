{
  "cells": [
    {
      "cell_type": "code",
      "execution_count": null,
      "metadata": {
        "id": "cAdHcgbcUeBZ"
      },
      "outputs": [],
      "source": [
        "import pandas as pd\n",
        "import numpy as np\n",
        "from geopy.distance import geodesic\n",
        "from itertools import combinations\n",
        "import random"
      ]
    },
    {
      "cell_type": "code",
      "execution_count": null,
      "metadata": {
        "id": "7vbcZQ9ZUqO5"
      },
      "outputs": [],
      "source": [
        "def load_cities(country):\n",
        "    \"\"\"Load cities from a CSV file based on the selected country.\"\"\"\n",
        "    return pd.read_csv(f'cities/{country.lower()}.csv', header=None, names=['City', 'lat', 'lon'])\n",
        "\n",
        "def create_distance_matrix(cities):\n",
        "    \"\"\"Create a distance matrix for the cities based on their lat/lon coordinates.\"\"\"\n",
        "    DIST_MATRIX = np.zeros((len(cities), len(cities)))\n",
        "    for c1, c2 in combinations(cities.itertuples(), 2):\n",
        "        DIST_MATRIX[c1.Index, c2.Index] = DIST_MATRIX[c2.Index, c1.Index] = geodesic(\n",
        "            (c1.lat, c1.lon), (c2.lat, c2.lon)\n",
        "        ).km\n",
        "    return DIST_MATRIX\n",
        "\n",
        "countries = [\"Vanuatu\", \"Italy\", \"Russia\", \"US\", \"China\"]"
      ]
    },
    {
      "cell_type": "code",
      "execution_count": null,
      "metadata": {
        "id": "VCi2TOpqVJwP"
      },
      "outputs": [],
      "source": [
        "def compute_distance(route, distance_matrix):\n",
        "    \"\"\"Calculate the total distance of a given route, ensuring it is a closed loop.\"\"\"\n",
        "    return sum(distance_matrix[route[i]][route[i + 1]] for i in range(len(route) - 1))"
      ]
    },
    {
      "cell_type": "markdown",
      "metadata": {
        "id": "Db4A__VpfkYN"
      },
      "source": [
        "#2-OPT\n",
        "2-opt is an algorithm which was invented to solve the TSP problem (Source: https://slowandsteadybrain.medium.com/traveling-salesman-problem-ce78187cf1f3). Because this algorithm provides easily a good solution to TSP, my idea was to combine it to other algorithm.\n",
        "\n",
        "Why did I decide to use 2-opt? The focus of this lab was genetic algorithms, so that was what I applied at first. But I got results which were worse than a simple greedy algorithm, so I decided to look for something different to combine to the genetic algorithm.\n",
        "\n",
        "*For all the algorithms there's the output for all the countries. Instead of the name of the city, there's its row number in the CSV file. I put the full route in the output (and in my computations) meaning that the last city is also the first one.*"
      ]
    },
    {
      "cell_type": "code",
      "execution_count": null,
      "metadata": {
        "id": "7k9RIg3WVhvS"
      },
      "outputs": [],
      "source": [
        "def two_opt(route, distance_matrix):\n",
        "    \"\"\"Perform 2-opt to improve the route by swapping two edges to reduce distance.\"\"\"\n",
        "    improved = True\n",
        "    while improved:\n",
        "        improved = False\n",
        "        for i in range(1, len(route) - 2):\n",
        "            for j in range(i + 1, len(route) - 1):\n",
        "                if distance_matrix[route[i - 1]][route[i]] + distance_matrix[route[j]][route[j + 1]] > \\\n",
        "                   distance_matrix[route[i - 1]][route[j]] + distance_matrix[route[i]][route[j + 1]]:\n",
        "                    route[i:j + 1] = route[i:j + 1][::-1]  # Perform the swap\n",
        "                    improved = True\n",
        "    return route"
      ]
    },
    {
      "cell_type": "markdown",
      "metadata": {
        "id": "M8O-qUXOW4Y9"
      },
      "source": [
        "#Greedy + 2-OPT\n",
        "As seen in class, the Greedy Algorithm provides a fast (and \"dirty\") solution. I wanted to have this in my code to be sure that the more complex algorithms were actually giving good results! I also gave as an output the greedy algorithm alone, and we can see that adding 2-opt makes the results so much better (and the algorithm is still pretty fast)\n",
        "\n",
        "Tot computation time: 90 seconds"
      ]
    },
    {
      "cell_type": "code",
      "execution_count": null,
      "metadata": {
        "id": "1CQTfzabdBcF"
      },
      "outputs": [],
      "source": [
        "def greedy(distance_matrix):\n",
        "    n = len(distance_matrix)\n",
        "    visited = [False] * n\n",
        "    tour = [0]\n",
        "    visited[0] = True\n",
        "    total_distance = 0\n",
        "\n",
        "    for _ in range(1, n):\n",
        "        last_city = tour[-1]\n",
        "        nearest_city = None\n",
        "        nearest_distance = float('inf')\n",
        "\n",
        "        for city in range(n):\n",
        "            if not visited[city] and distance_matrix[last_city][city] < nearest_distance:\n",
        "                nearest_distance = distance_matrix[last_city][city]\n",
        "                nearest_city = city\n",
        "\n",
        "        tour.append(nearest_city)\n",
        "        visited[nearest_city] = True\n",
        "        total_distance += nearest_distance\n",
        "\n",
        "    # Return to the starting city\n",
        "    total_distance += distance_matrix[tour[-1]][tour[0]]\n",
        "    tour.append(tour[0])  # Completing the tour by returning to the start\n",
        "\n",
        "    # Initial Greedy solution\n",
        "    initial_tour = tour[:]\n",
        "    initial_distance = total_distance\n",
        "\n",
        "    # Apply 2-opt to improve the solution\n",
        "    optimized_tour = two_opt(tour, distance_matrix)\n",
        "    optimized_distance = compute_distance(optimized_tour, distance_matrix)\n",
        "\n",
        "    return initial_tour, initial_distance, optimized_tour, optimized_distance"
      ]
    },
    {
      "cell_type": "code",
      "execution_count": null,
      "metadata": {
        "colab": {
          "base_uri": "https://localhost:8080/"
        },
        "id": "Tqzz9B75dDdk",
        "outputId": "aae6ee45-bbae-419d-f967-9b536defcee3"
      },
      "outputs": [
        {
          "name": "stdout",
          "output_type": "stream",
          "text": [
            "Processing data for Vanuatu...\n",
            "Initial Greedy TSP Tour for Vanuatu: [0, 7, 1, 4, 3, 5, 2, 6, 0]\n",
            "Initial Total Distance: 1475.53 km\n",
            "\n",
            "\n",
            "Optimized TSP Tour with 2-Opt for Vanuatu: [0, 7, 1, 4, 3, 5, 6, 2, 0]\n",
            "Optimized Total Distance: 1345.54 km\n",
            "\n",
            "\n",
            "Processing data for Italy...\n",
            "Initial Greedy TSP Tour for Italy: [0, 33, 12, 30, 9, 4, 19, 32, 25, 28, 18, 20, 3, 6, 44, 45, 23, 43, 41, 5, 40, 22, 42, 13, 16, 29, 10, 26, 39, 34, 15, 14, 21, 35, 11, 1, 2, 38, 17, 31, 8, 37, 24, 7, 36, 27, 0]\n",
            "Initial Total Distance: 4436.03 km\n",
            "\n",
            "\n",
            "Optimized TSP Tour with 2-Opt for Italy: [0, 41, 43, 23, 45, 5, 40, 44, 6, 28, 3, 20, 18, 22, 42, 13, 25, 32, 19, 4, 9, 30, 33, 12, 10, 29, 16, 36, 7, 24, 8, 37, 31, 17, 38, 2, 1, 11, 35, 21, 14, 15, 34, 39, 26, 27, 0]\n",
            "Optimized Total Distance: 4263.21 km\n",
            "\n",
            "\n",
            "Processing data for Russia...\n",
            "Initial Greedy TSP Tour for Russia: [0, 54, 1, 40, 58, 109, 86, 15, 11, 90, 139, 124, 113, 97, 137, 142, 55, 49, 20, 65, 166, 105, 159, 36, 79, 104, 14, 33, 74, 70, 77, 2, 96, 143, 131, 117, 99, 100, 91, 101, 62, 118, 85, 138, 134, 145, 25, 39, 83, 19, 161, 80, 26, 7, 68, 52, 150, 98, 81, 27, 164, 10, 126, 50, 69, 43, 163, 66, 60, 165, 108, 95, 94, 122, 140, 87, 114, 46, 121, 141, 115, 158, 51, 32, 154, 21, 107, 116, 47, 148, 110, 147, 127, 18, 102, 56, 129, 156, 59, 160, 136, 103, 119, 9, 29, 120, 37, 155, 153, 152, 125, 89, 84, 112, 12, 135, 53, 64, 5, 130, 76, 22, 45, 111, 72, 149, 73, 30, 42, 63, 38, 24, 8, 28, 128, 88, 13, 35, 44, 133, 4, 123, 67, 34, 75, 132, 78, 93, 92, 82, 17, 3, 31, 144, 23, 16, 41, 48, 162, 71, 6, 151, 146, 157, 61, 106, 57, 0]\n",
            "Initial Total Distance: 42334.16 km\n",
            "\n",
            "\n",
            "Optimized TSP Tour with 2-Opt for Russia: [0, 54, 1, 124, 139, 40, 58, 109, 86, 15, 11, 90, 113, 97, 137, 142, 55, 49, 20, 65, 166, 36, 159, 105, 79, 104, 33, 74, 70, 77, 2, 96, 143, 131, 117, 62, 101, 91, 100, 99, 118, 85, 138, 134, 145, 25, 39, 44, 161, 83, 19, 80, 26, 52, 68, 7, 119, 103, 9, 120, 29, 37, 155, 153, 152, 125, 89, 84, 112, 12, 28, 8, 24, 38, 63, 42, 30, 73, 149, 72, 111, 45, 22, 76, 130, 5, 64, 128, 88, 53, 135, 13, 129, 156, 136, 59, 160, 56, 102, 18, 34, 110, 147, 127, 35, 140, 87, 114, 46, 165, 60, 108, 122, 94, 95, 66, 43, 163, 141, 121, 69, 50, 126, 10, 164, 27, 81, 98, 150, 32, 51, 158, 115, 154, 21, 148, 47, 116, 107, 67, 123, 4, 133, 14, 75, 132, 78, 93, 92, 82, 157, 61, 106, 162, 48, 41, 71, 151, 6, 146, 16, 23, 144, 31, 3, 17, 57, 0]\n",
            "Optimized Total Distance: 34634.59 km\n",
            "\n",
            "\n",
            "Processing data for US...\n",
            "Initial Greedy TSP Tour for US: [0, 321, 72, 154, 40, 225, 4, 168, 103, 240, 107, 173, 66, 133, 110, 100, 311, 141, 249, 18, 257, 64, 79, 167, 34, 148, 286, 219, 151, 126, 296, 57, 304, 273, 22, 143, 21, 174, 193, 181, 183, 60, 164, 15, 261, 14, 16, 270, 198, 45, 322, 94, 41, 234, 77, 114, 122, 323, 61, 46, 245, 3, 12, 313, 59, 20, 222, 5, 80, 83, 190, 136, 195, 199, 213, 283, 325, 218, 235, 31, 192, 314, 117, 324, 161, 37, 28, 233, 32, 230, 191, 163, 166, 290, 7, 35, 55, 1, 224, 299, 10, 71, 75, 312, 284, 147, 111, 276, 99, 70, 52, 155, 160, 90, 53, 189, 185, 128, 47, 142, 26, 169, 157, 134, 292, 105, 135, 210, 144, 30, 244, 293, 253, 54, 281, 214, 229, 318, 227, 98, 124, 176, 180, 220, 69, 62, 120, 175, 153, 38, 48, 309, 196, 116, 194, 130, 137, 188, 17, 82, 49, 247, 165, 178, 113, 246, 252, 179, 275, 207, 156, 300, 206, 211, 139, 129, 152, 320, 303, 33, 197, 205, 6, 162, 177, 204, 86, 149, 2, 242, 232, 58, 121, 43, 73, 297, 317, 13, 145, 29, 112, 97, 231, 316, 319, 256, 27, 171, 187, 279, 278, 23, 238, 140, 95, 291, 272, 91, 307, 228, 115, 123, 254, 89, 50, 248, 250, 84, 285, 11, 92, 305, 306, 241, 24, 202, 262, 67, 264, 118, 101, 287, 266, 263, 255, 182, 102, 56, 310, 19, 146, 215, 267, 274, 298, 212, 259, 159, 131, 301, 158, 201, 76, 78, 85, 315, 226, 208, 236, 96, 239, 258, 138, 243, 184, 170, 186, 294, 203, 39, 88, 260, 81, 51, 132, 265, 65, 127, 106, 8, 104, 209, 63, 217, 109, 36, 308, 87, 282, 216, 119, 288, 200, 150, 289, 223, 295, 44, 108, 172, 271, 302, 268, 269, 237, 277, 25, 93, 74, 42, 68, 221, 280, 251, 9, 125, 0]\n",
            "Initial Total Distance: 48050.03 km\n",
            "\n",
            "\n",
            "Optimized TSP Tour with 2-Opt for US: [0, 321, 72, 154, 40, 103, 168, 4, 225, 240, 107, 173, 66, 133, 110, 100, 311, 141, 249, 18, 257, 148, 167, 79, 34, 64, 286, 219, 151, 126, 296, 57, 304, 273, 22, 143, 21, 174, 193, 134, 157, 169, 26, 15, 261, 14, 16, 164, 60, 183, 181, 292, 105, 281, 54, 253, 293, 244, 30, 144, 38, 153, 69, 220, 180, 176, 120, 175, 124, 98, 227, 62, 318, 229, 214, 210, 135, 270, 198, 45, 322, 94, 41, 234, 77, 46, 61, 323, 122, 114, 245, 48, 309, 196, 116, 194, 3, 12, 313, 59, 20, 222, 5, 80, 83, 190, 136, 195, 218, 235, 325, 199, 213, 283, 31, 192, 314, 117, 324, 230, 191, 32, 233, 28, 37, 163, 161, 166, 290, 7, 35, 224, 1, 55, 299, 71, 75, 312, 284, 10, 147, 111, 276, 99, 70, 52, 130, 160, 155, 142, 47, 128, 185, 189, 53, 90, 251, 280, 221, 137, 49, 188, 17, 82, 247, 68, 42, 165, 178, 113, 246, 252, 179, 93, 275, 156, 207, 74, 129, 152, 139, 211, 206, 300, 320, 303, 33, 197, 205, 6, 232, 58, 121, 43, 73, 145, 13, 317, 297, 29, 112, 97, 25, 256, 319, 316, 231, 200, 288, 119, 216, 150, 282, 87, 308, 217, 109, 36, 267, 215, 146, 19, 310, 56, 102, 182, 285, 84, 250, 248, 50, 237, 277, 187, 171, 27, 279, 278, 89, 254, 123, 228, 115, 307, 291, 95, 140, 238, 23, 272, 91, 9, 125, 269, 305, 92, 11, 306, 241, 24, 202, 262, 67, 264, 118, 101, 287, 266, 263, 255, 268, 259, 212, 298, 274, 159, 131, 301, 158, 201, 76, 78, 85, 315, 226, 208, 63, 209, 8, 104, 106, 127, 65, 265, 132, 203, 39, 260, 51, 81, 88, 294, 186, 170, 184, 243, 138, 236, 96, 239, 258, 289, 223, 271, 295, 44, 172, 108, 302, 242, 2, 149, 86, 204, 177, 162, 0]\n",
            "Optimized Total Distance: 39425.07 km\n",
            "\n",
            "\n",
            "Processing data for China...\n",
            "Initial Greedy TSP Tour for China: [0, 186, 505, 677, 570, 508, 285, 264, 289, 93, 46, 157, 513, 328, 384, 419, 212, 252, 114, 197, 359, 636, 550, 229, 414, 173, 396, 397, 198, 290, 101, 451, 395, 233, 23, 507, 240, 191, 399, 644, 539, 516, 174, 28, 573, 412, 450, 232, 358, 681, 629, 172, 235, 685, 382, 154, 239, 192, 457, 469, 356, 207, 5, 696, 699, 514, 435, 434, 532, 16, 554, 545, 506, 538, 540, 138, 108, 671, 492, 519, 95, 327, 12, 287, 329, 616, 33, 139, 34, 59, 283, 338, 418, 650, 87, 142, 557, 430, 79, 711, 105, 81, 126, 36, 543, 18, 343, 481, 133, 544, 234, 605, 444, 346, 531, 183, 530, 143, 535, 309, 218, 31, 549, 637, 470, 509, 52, 388, 123, 716, 146, 27, 459, 194, 41, 44, 220, 318, 38, 112, 196, 504, 443, 645, 718, 708, 690, 40, 305, 617, 523, 266, 326, 344, 403, 292, 199, 494, 613, 147, 366, 497, 375, 614, 103, 6, 21, 100, 609, 475, 182, 345, 569, 14, 187, 350, 230, 618, 563, 294, 700, 610, 615, 622, 680, 48, 626, 372, 575, 423, 468, 94, 156, 599, 638, 387, 445, 291, 268, 149, 56, 256, 646, 471, 674, 662, 337, 477, 564, 588, 596, 608, 542, 180, 211, 335, 129, 370, 237, 262, 168, 528, 282, 668, 634, 623, 666, 510, 88, 128, 553, 277, 206, 24, 120, 672, 630, 426, 169, 102, 312, 347, 19, 705, 439, 585, 339, 647, 89, 503, 176, 572, 576, 342, 25, 580, 267, 692, 288, 258, 673, 115, 179, 552, 555, 394, 134, 49, 496, 303, 556, 298, 522, 39, 653, 551, 1, 2, 210, 474, 299, 15, 300, 3, 155, 612, 537, 361, 161, 310, 26, 90, 92, 560, 7, 502, 83, 313, 96, 411, 682, 591, 643, 652, 706, 274, 82, 703, 702, 642, 275, 515, 490, 43, 501, 461, 670, 348, 208, 65, 594, 91, 223, 121, 225, 577, 181, 597, 648, 8, 160, 619, 518, 536, 436, 595, 380, 365, 190, 125, 58, 578, 378, 404, 293, 657, 701, 635, 243, 529, 247, 527, 273, 248, 686, 408, 54, 302, 524, 476, 425, 257, 548, 177, 579, 238, 97, 184, 140, 332, 714, 654, 111, 663, 276, 311, 242, 456, 246, 479, 98, 320, 270, 195, 400, 145, 691, 621, 241, 271, 720, 64, 316, 51, 437, 200, 593, 485, 592, 717, 331, 590, 428, 353, 53, 392, 665, 656, 47, 280, 687, 284, 215, 209, 547, 295, 137, 116, 167, 442, 13, 352, 624, 455, 279, 301, 381, 9, 171, 362, 678, 707, 297, 153, 512, 272, 333, 376, 466, 78, 72, 367, 420, 601, 698, 574, 37, 458, 725, 67, 377, 661, 76, 244, 69, 29, 189, 158, 226, 401, 517, 721, 413, 719, 641, 321, 117, 628, 448, 70, 113, 422, 159, 99, 391, 495, 390, 249, 62, 385, 135, 402, 330, 119, 559, 185, 22, 715, 709, 261, 42, 660, 214, 521, 627, 600, 533, 722, 723, 640, 454, 667, 478, 204, 589, 433, 683, 124, 349, 193, 324, 620, 429, 520, 217, 213, 534, 606, 151, 109, 77, 631, 462, 57, 581, 281, 355, 655, 417, 625, 546, 68, 10, 541, 369, 73, 393, 35, 216, 676, 85, 487, 480, 679, 74, 415, 127, 491, 341, 224, 374, 253, 567, 669, 568, 463, 132, 131, 416, 50, 136, 409, 432, 20, 453, 278, 440, 500, 398, 587, 357, 693, 689, 363, 659, 472, 407, 250, 251, 583, 486, 166, 651, 334, 141, 286, 464, 582, 222, 351, 710, 460, 712, 11, 561, 55, 424, 308, 695, 360, 421, 452, 307, 306, 265, 438, 255, 148, 254, 178, 467, 566, 562, 639, 724, 61, 340, 66, 603, 688, 364, 323, 319, 488, 664, 164, 354, 202, 304, 163, 165, 32, 45, 371, 675, 150, 697, 511, 604, 130, 162, 221, 499, 80, 598, 704, 245, 489, 296, 525, 526, 118, 633, 632, 383, 152, 227, 571, 694, 107, 317, 322, 30, 446, 122, 110, 71, 406, 658, 188, 269, 17, 611, 586, 205, 325, 315, 484, 379, 649, 75, 684, 498, 106, 236, 493, 84, 427, 231, 373, 203, 170, 483, 260, 259, 228, 368, 431, 263, 389, 175, 482, 4, 63, 60, 219, 386, 607, 201, 410, 405, 144, 465, 441, 713, 565, 447, 558, 584, 473, 104, 86, 336, 449, 314, 602, 0]\n",
            "Initial Total Distance: 63962.92 km\n",
            "\n",
            "\n",
            "Optimized TSP Tour with 2-Opt for China: [0, 186, 516, 174, 539, 644, 399, 240, 191, 544, 133, 507, 23, 233, 395, 451, 101, 290, 198, 397, 396, 173, 414, 229, 550, 636, 359, 197, 114, 252, 264, 328, 384, 419, 212, 343, 18, 543, 36, 126, 81, 105, 711, 79, 430, 557, 142, 87, 650, 418, 33, 34, 59, 338, 283, 234, 605, 444, 421, 360, 452, 639, 562, 566, 467, 178, 265, 306, 307, 695, 308, 424, 55, 561, 11, 148, 255, 438, 254, 712, 460, 631, 77, 109, 606, 151, 534, 213, 217, 520, 429, 620, 324, 193, 349, 124, 683, 600, 533, 722, 723, 454, 640, 667, 589, 433, 204, 478, 627, 521, 214, 660, 42, 261, 709, 372, 626, 48, 622, 680, 423, 468, 94, 615, 610, 700, 294, 563, 618, 230, 256, 56, 149, 268, 445, 156, 599, 638, 387, 291, 646, 471, 674, 662, 337, 502, 83, 313, 96, 411, 575, 715, 682, 591, 643, 652, 706, 274, 82, 642, 702, 703, 275, 515, 490, 43, 501, 461, 670, 348, 208, 65, 594, 91, 223, 121, 225, 577, 597, 181, 595, 436, 536, 648, 8, 518, 619, 160, 380, 365, 190, 125, 216, 35, 393, 73, 378, 578, 625, 417, 655, 355, 281, 85, 676, 293, 404, 657, 701, 635, 243, 529, 247, 462, 527, 57, 248, 273, 686, 408, 54, 524, 476, 302, 581, 238, 579, 257, 548, 97, 184, 332, 140, 714, 654, 111, 663, 276, 311, 242, 456, 246, 351, 224, 341, 491, 127, 415, 74, 679, 480, 487, 177, 425, 710, 253, 374, 567, 669, 568, 463, 132, 131, 416, 50, 409, 136, 432, 20, 453, 500, 440, 278, 398, 587, 357, 693, 363, 689, 659, 472, 407, 250, 251, 486, 583, 166, 651, 334, 141, 400, 195, 320, 270, 98, 479, 222, 68, 546, 58, 369, 541, 10, 286, 582, 464, 145, 691, 621, 241, 271, 144, 465, 405, 410, 484, 379, 649, 441, 511, 604, 130, 162, 221, 499, 80, 598, 236, 106, 498, 684, 75, 373, 231, 203, 607, 386, 60, 219, 63, 4, 482, 175, 389, 263, 431, 368, 228, 259, 260, 201, 170, 483, 427, 84, 493, 713, 704, 245, 489, 296, 525, 526, 118, 633, 632, 150, 697, 675, 371, 45, 32, 383, 152, 322, 227, 571, 694, 317, 107, 449, 565, 447, 558, 473, 584, 104, 86, 336, 30, 446, 122, 110, 71, 406, 202, 304, 163, 165, 586, 205, 325, 315, 64, 720, 316, 51, 200, 437, 664, 164, 354, 658, 188, 269, 17, 611, 455, 279, 301, 381, 171, 9, 362, 678, 707, 297, 153, 272, 512, 333, 466, 376, 78, 72, 367, 420, 624, 352, 13, 442, 167, 137, 116, 295, 547, 215, 209, 488, 319, 323, 364, 485, 593, 592, 717, 331, 590, 428, 353, 53, 392, 665, 656, 47, 280, 687, 284, 402, 119, 330, 559, 135, 69, 244, 76, 661, 413, 719, 641, 377, 67, 725, 458, 37, 574, 698, 601, 602, 314, 628, 117, 321, 385, 448, 70, 113, 422, 391, 495, 249, 390, 99, 159, 62, 721, 517, 401, 189, 29, 226, 158, 92, 90, 560, 7, 477, 564, 542, 588, 596, 608, 22, 185, 26, 310, 161, 361, 537, 102, 19, 312, 347, 612, 155, 552, 300, 210, 474, 299, 15, 551, 1, 2, 653, 39, 522, 298, 556, 303, 496, 49, 555, 394, 134, 3, 179, 115, 673, 258, 288, 692, 267, 580, 25, 342, 576, 572, 176, 503, 89, 647, 339, 585, 439, 705, 169, 426, 630, 180, 211, 335, 129, 370, 237, 262, 672, 120, 24, 206, 277, 553, 128, 88, 510, 666, 623, 168, 528, 668, 282, 634, 609, 475, 569, 350, 187, 14, 345, 182, 326, 266, 523, 617, 305, 40, 690, 708, 718, 645, 443, 504, 112, 196, 38, 318, 220, 143, 530, 183, 531, 346, 724, 340, 66, 61, 470, 535, 44, 41, 100, 344, 403, 292, 199, 613, 147, 366, 497, 375, 614, 103, 21, 6, 494, 194, 459, 27, 309, 218, 31, 549, 637, 509, 52, 388, 123, 146, 716, 688, 603, 382, 685, 235, 172, 629, 154, 239, 192, 573, 28, 412, 681, 358, 232, 450, 457, 207, 469, 356, 5, 696, 699, 514, 435, 434, 532, 16, 554, 545, 139, 616, 329, 12, 287, 327, 95, 519, 492, 671, 108, 138, 540, 538, 506, 513, 157, 46, 289, 93, 505, 677, 285, 508, 570, 481, 0]\n",
            "Optimized Total Distance: 53967.81 km\n",
            "\n",
            "\n"
          ]
        }
      ],
      "source": [
        "def output_greedy(country):\n",
        "    cities = load_cities(country)\n",
        "    distance_matrix = create_distance_matrix(cities)\n",
        "\n",
        "    initial_tour, initial_distance, optimized_tour, optimized_distance = greedy(distance_matrix)\n",
        "\n",
        "    print(f\"Initial Greedy TSP Tour for {country}: {initial_tour}\")\n",
        "    print(f\"Initial Total Distance: {initial_distance:.2f} km\")\n",
        "    print(\"\\n\")\n",
        "    print(f\"Optimized TSP Tour with 2-Opt for {country}: {optimized_tour}\")\n",
        "    print(f\"Optimized Total Distance: {optimized_distance:.2f} km\")\n",
        "\n",
        "for country in countries:\n",
        "    print(f\"Processing data for {country}...\")\n",
        "    output_greedy(country)\n",
        "    print(\"\\n\")"
      ]
    },
    {
      "cell_type": "markdown",
      "metadata": {
        "id": "4c-cczAOVd7j"
      },
      "source": [
        "#SA + 2-OPT\n",
        "Simulated annealing combined with 2-opt\n",
        "\n",
        "Tot computation time: 1 hour and 15 minutes"
      ]
    },
    {
      "cell_type": "code",
      "execution_count": null,
      "metadata": {
        "id": "t_TuOYBvVipl"
      },
      "outputs": [],
      "source": [
        "def simulated_annealing(distance_matrix, initial_temp=10000, cooling_rate=0.995, min_temp=1):\n",
        "\n",
        "    n = len(distance_matrix)\n",
        "    # Initial solution: random route\n",
        "    current_route = list(range(n))\n",
        "    random.shuffle(current_route)\n",
        "    current_route.append(current_route[0])  # Complete the loop\n",
        "\n",
        "    best_route = current_route[:]\n",
        "    best_distance = compute_distance(current_route, distance_matrix)\n",
        "    current_temp = initial_temp\n",
        "\n",
        "    while current_temp > min_temp:\n",
        "        # Generate a neighbor by swapping two cities\n",
        "        new_route = current_route[:]\n",
        "        i, j = sorted(random.sample(range(1, n), 2))\n",
        "        new_route[i:j+1] = reversed(new_route[i:j+1])\n",
        "\n",
        "        # Apply 2-opt to the new route\n",
        "        new_route = two_opt(new_route, distance_matrix)\n",
        "        new_distance = compute_distance(new_route, distance_matrix)\n",
        "\n",
        "        # Acceptance probability\n",
        "        if new_distance < best_distance or random.random() < np.exp((best_distance - new_distance) / current_temp):\n",
        "            current_route = new_route\n",
        "            current_distance = new_distance\n",
        "            if current_distance < best_distance:\n",
        "                best_route, best_distance = current_route, current_distance\n",
        "\n",
        "        current_temp *= cooling_rate\n",
        "\n",
        "    return best_route, best_distance"
      ]
    },
    {
      "cell_type": "code",
      "execution_count": null,
      "metadata": {
        "colab": {
          "base_uri": "https://localhost:8080/"
        },
        "id": "3DCwfeMIVodT",
        "outputId": "0e36039b-1734-4179-bdb5-70f443419c5b"
      },
      "outputs": [
        {
          "name": "stdout",
          "output_type": "stream",
          "text": [
            "Processing data for Vanuatu with Simulated Annealing + 2-opt...\n",
            "Simulated Annealing + 2-opt TSP Tour for Vanuatu: [7, 0, 2, 6, 5, 3, 4, 1, 7]\n",
            "Total Distance: 1345.54 km\n",
            "\n",
            "\n",
            "Processing data for Italy with Simulated Annealing + 2-opt...\n",
            "Simulated Annealing + 2-opt TSP Tour for Italy: [18, 22, 42, 13, 28, 25, 32, 19, 4, 29, 10, 16, 36, 7, 24, 8, 37, 31, 17, 38, 2, 1, 11, 35, 21, 14, 15, 34, 39, 26, 27, 0, 33, 12, 30, 9, 23, 43, 41, 5, 40, 45, 44, 6, 3, 20, 18]\n",
            "Total Distance: 4172.76 km\n",
            "\n",
            "\n",
            "Processing data for Russia with Simulated Annealing + 2-opt...\n",
            "Simulated Annealing + 2-opt TSP Tour for Russia: [15, 86, 109, 58, 40, 139, 124, 1, 0, 57, 54, 17, 3, 31, 144, 23, 16, 151, 71, 6, 146, 41, 48, 162, 106, 61, 157, 82, 92, 93, 78, 132, 75, 137, 142, 36, 159, 105, 79, 104, 14, 133, 4, 123, 67, 107, 116, 47, 148, 110, 34, 147, 127, 18, 102, 56, 13, 89, 125, 84, 112, 12, 135, 53, 88, 128, 64, 5, 130, 76, 22, 45, 111, 72, 149, 73, 30, 42, 63, 38, 24, 8, 28, 152, 153, 155, 37, 29, 120, 9, 134, 85, 118, 138, 25, 145, 119, 103, 136, 59, 156, 129, 160, 87, 140, 35, 94, 122, 108, 95, 66, 43, 163, 141, 21, 154, 115, 158, 51, 32, 52, 150, 98, 121, 69, 50, 126, 10, 60, 164, 81, 27, 165, 46, 114, 68, 26, 80, 7, 19, 83, 39, 161, 44, 33, 74, 70, 77, 2, 96, 143, 131, 117, 99, 100, 91, 101, 62, 166, 65, 20, 49, 55, 97, 90, 11, 113, 15]\n",
            "Total Distance: 33331.09 km\n",
            "\n",
            "\n",
            "Processing data for US with Simulated Annealing + 2-opt...\n",
            "Simulated Annealing + 2-opt TSP Tour for US: [317, 297, 29, 112, 97, 25, 231, 316, 319, 256, 27, 171, 187, 279, 278, 115, 307, 228, 89, 254, 123, 291, 95, 140, 238, 23, 272, 91, 9, 125, 255, 263, 266, 287, 101, 11, 118, 264, 67, 262, 202, 24, 241, 306, 269, 92, 305, 84, 250, 248, 50, 277, 237, 285, 182, 102, 56, 310, 19, 268, 259, 212, 298, 274, 267, 146, 215, 109, 36, 159, 131, 301, 158, 127, 65, 132, 209, 265, 106, 8, 104, 201, 76, 78, 217, 85, 315, 226, 236, 208, 63, 203, 39, 260, 51, 81, 88, 294, 186, 170, 184, 243, 138, 96, 239, 258, 308, 87, 282, 150, 200, 288, 216, 119, 289, 223, 271, 295, 44, 172, 108, 302, 86, 149, 2, 242, 6, 162, 204, 177, 0, 321, 197, 205, 303, 33, 157, 169, 273, 304, 173, 66, 107, 240, 225, 4, 168, 103, 72, 154, 40, 133, 110, 100, 311, 141, 249, 18, 257, 148, 167, 79, 34, 64, 57, 296, 126, 286, 219, 151, 22, 143, 21, 174, 193, 181, 134, 26, 183, 15, 261, 14, 16, 164, 60, 292, 281, 293, 54, 253, 244, 30, 144, 38, 153, 69, 220, 180, 120, 175, 176, 124, 98, 227, 62, 318, 229, 214, 210, 105, 135, 270, 198, 45, 322, 94, 46, 61, 323, 122, 114, 245, 77, 41, 234, 194, 48, 309, 196, 116, 3, 12, 313, 59, 20, 222, 5, 80, 83, 190, 136, 195, 218, 235, 325, 199, 213, 283, 31, 192, 314, 117, 324, 230, 191, 32, 233, 28, 37, 163, 161, 166, 290, 7, 35, 224, 1, 55, 299, 71, 75, 312, 284, 10, 147, 111, 113, 178, 165, 247, 82, 17, 188, 137, 49, 276, 99, 70, 52, 130, 160, 155, 142, 47, 128, 185, 189, 53, 90, 251, 280, 221, 68, 42, 246, 252, 179, 93, 275, 156, 207, 74, 129, 152, 211, 206, 139, 300, 320, 232, 58, 121, 43, 73, 145, 13, 317]\n",
            "Total Distance: 38628.02 km\n",
            "\n",
            "\n",
            "Processing data for China with Simulated Annealing + 2-opt...\n",
            "Simulated Annealing + 2-opt TSP Tour for China: [201, 431, 368, 228, 259, 260, 483, 170, 203, 373, 231, 427, 84, 493, 713, 704, 598, 80, 499, 221, 236, 106, 498, 684, 75, 649, 441, 511, 697, 150, 604, 162, 130, 489, 245, 526, 525, 296, 118, 633, 632, 371, 675, 586, 45, 32, 383, 152, 322, 227, 571, 694, 107, 449, 565, 447, 558, 473, 584, 104, 86, 336, 317, 30, 446, 122, 110, 71, 406, 163, 165, 304, 202, 354, 658, 188, 269, 17, 611, 455, 624, 352, 13, 442, 167, 137, 116, 295, 725, 458, 37, 574, 698, 601, 420, 72, 367, 362, 9, 381, 301, 279, 171, 707, 678, 297, 153, 272, 512, 333, 78, 376, 466, 314, 602, 210, 474, 299, 15, 551, 1, 2, 653, 39, 522, 3, 298, 556, 303, 496, 49, 134, 394, 555, 300, 552, 179, 115, 155, 673, 258, 288, 692, 267, 580, 25, 705, 439, 585, 339, 647, 89, 503, 176, 572, 576, 342, 120, 24, 206, 277, 553, 128, 88, 510, 666, 623, 634, 609, 475, 182, 569, 345, 14, 187, 350, 56, 149, 268, 256, 445, 291, 646, 674, 471, 337, 662, 180, 211, 335, 370, 129, 237, 262, 668, 282, 528, 168, 672, 630, 542, 564, 477, 588, 596, 608, 22, 426, 169, 19, 312, 612, 347, 102, 537, 361, 161, 249, 390, 495, 391, 99, 159, 62, 422, 113, 70, 448, 385, 628, 117, 321, 721, 413, 719, 641, 377, 67, 661, 76, 244, 69, 29, 189, 135, 226, 158, 401, 517, 310, 26, 185, 7, 560, 90, 92, 559, 330, 119, 402, 687, 284, 547, 215, 209, 164, 205, 325, 315, 484, 379, 410, 405, 144, 465, 363, 689, 659, 472, 407, 250, 251, 486, 583, 479, 246, 456, 222, 98, 270, 195, 320, 166, 651, 334, 141, 400, 145, 691, 621, 241, 271, 720, 64, 316, 51, 200, 437, 664, 488, 319, 323, 364, 485, 593, 592, 717, 331, 590, 428, 353, 53, 392, 665, 656, 47, 280, 501, 461, 670, 348, 208, 65, 594, 577, 597, 181, 595, 536, 436, 43, 490, 515, 275, 703, 702, 642, 82, 274, 652, 706, 648, 8, 518, 682, 643, 591, 313, 502, 83, 96, 411, 575, 715, 619, 160, 380, 225, 121, 223, 91, 582, 464, 286, 10, 68, 541, 369, 365, 190, 125, 58, 546, 578, 625, 417, 655, 355, 281, 85, 676, 701, 243, 606, 151, 635, 657, 293, 404, 378, 73, 393, 35, 216, 521, 214, 660, 42, 261, 709, 372, 626, 48, 622, 680, 423, 468, 94, 638, 387, 599, 156, 610, 615, 700, 294, 618, 230, 563, 433, 589, 204, 478, 667, 533, 722, 723, 640, 454, 523, 266, 690, 305, 617, 40, 708, 718, 645, 443, 112, 196, 38, 318, 100, 326, 344, 403, 292, 199, 494, 613, 147, 366, 497, 375, 614, 103, 6, 21, 459, 194, 41, 44, 220, 143, 530, 183, 535, 470, 637, 549, 309, 27, 146, 716, 123, 388, 218, 31, 509, 52, 688, 603, 66, 340, 61, 724, 531, 346, 444, 605, 234, 283, 338, 59, 34, 139, 33, 418, 329, 616, 545, 506, 157, 46, 289, 93, 505, 0, 186, 696, 5, 356, 469, 457, 207, 699, 514, 435, 434, 532, 16, 554, 232, 450, 358, 681, 629, 172, 235, 685, 382, 154, 239, 192, 573, 412, 28, 174, 516, 539, 644, 399, 240, 191, 544, 133, 507, 23, 233, 395, 451, 101, 290, 198, 397, 396, 173, 414, 229, 550, 636, 359, 197, 114, 252, 481, 570, 677, 508, 285, 264, 419, 212, 343, 18, 543, 384, 328, 513, 538, 540, 138, 108, 671, 492, 519, 36, 95, 327, 12, 287, 87, 650, 142, 126, 81, 105, 711, 557, 430, 79, 421, 360, 695, 452, 639, 562, 566, 467, 178, 307, 306, 308, 424, 55, 504, 561, 11, 712, 148, 255, 265, 438, 254, 460, 324, 193, 349, 124, 683, 600, 627, 429, 620, 520, 217, 213, 534, 631, 77, 109, 462, 247, 529, 527, 273, 248, 57, 581, 686, 408, 54, 302, 524, 476, 579, 257, 425, 177, 548, 238, 97, 184, 140, 332, 242, 311, 276, 351, 663, 111, 654, 714, 487, 480, 679, 74, 710, 415, 127, 491, 341, 224, 253, 374, 567, 669, 568, 463, 132, 131, 416, 50, 409, 136, 432, 20, 398, 453, 278, 440, 500, 587, 357, 693, 219, 60, 63, 4, 482, 175, 389, 263, 386, 607, 201]\n",
            "Total Distance: 49618.61 km\n",
            "\n",
            "\n"
          ]
        }
      ],
      "source": [
        "def output_sa(country):\n",
        "    cities = load_cities(country)\n",
        "    distance_matrix = create_distance_matrix(cities)\n",
        "    tour, total_distance = simulated_annealing(distance_matrix)\n",
        "\n",
        "    print(f\"Simulated Annealing + 2-opt TSP Tour for {country}: {tour}\")\n",
        "    print(f\"Total Distance: {total_distance:.2f} km\")\n",
        "\n",
        "for country in countries:\n",
        "    print(f\"Processing data for {country} with Simulated Annealing + 2-opt...\")\n",
        "    output_sa(country)\n",
        "    print(\"\\n\")"
      ]
    },
    {
      "cell_type": "markdown",
      "metadata": {
        "id": "TmIzPPZBVuNR"
      },
      "source": [
        "#GA + 2-OPT\n",
        "Genetic algorithm combined with 2-opt. The problem with GA is that the population and generation numbers should be tailored for every specific problem, which is something I didn't do because the China TSP takes already a long time to run with the low numbers I chose. I think that GA + 2-opt + a better selection of the parameter is the best approach to actually find the optimal solutions for every scenario.\n",
        "\n",
        "Tot computation time: 30 minutes"
      ]
    },
    {
      "cell_type": "code",
      "execution_count": null,
      "metadata": {
        "id": "Mq9NFFGcVyoM"
      },
      "outputs": [],
      "source": [
        "def initialize_population(num_individuals, num_cities):\n",
        "    \"\"\"Initialize a population of random TSP routes.\"\"\"\n",
        "    population = []\n",
        "    for _ in range(num_individuals):\n",
        "        route = list(range(num_cities))\n",
        "        random.shuffle(route)\n",
        "        population.append(route)\n",
        "    return population\n",
        "\n",
        "def tournament_selection(population, fitness, k=3):\n",
        "    \"\"\"Select a route using tournament selection.\"\"\"\n",
        "    selected = random.sample(range(len(population)), k)\n",
        "    selected = sorted(selected, key=lambda x: fitness[x])\n",
        "    return population[selected[0]]\n",
        "\n",
        "def order_crossover(parent1, parent2):\n",
        "    \"\"\"Apply order crossover (OX) to generate an offspring from two parents.\"\"\"\n",
        "    start, end = sorted(random.sample(range(len(parent1)), 2))\n",
        "    child = [None] * len(parent1)\n",
        "    child[start:end] = parent1[start:end]\n",
        "\n",
        "    pos = end\n",
        "    for city in parent2:\n",
        "        if city not in child:\n",
        "            if pos >= len(parent1):\n",
        "                pos = 0\n",
        "            child[pos] = city\n",
        "            pos += 1\n",
        "    return child"
      ]
    },
    {
      "cell_type": "code",
      "execution_count": null,
      "metadata": {
        "id": "oFpB9xxbeKo9"
      },
      "outputs": [],
      "source": [
        "def genetic_algorithm(distance_matrix, num_generations=100, population_size=50, mutation_rate=0.2):\n",
        "    num_cities = len(distance_matrix)\n",
        "\n",
        "    population = [initialize_route(num_cities) for _ in range(population_size)]\n",
        "\n",
        "    best_route = None\n",
        "    best_distance = float('inf')\n",
        "\n",
        "    for generation in range(num_generations):\n",
        "        # Calculate fitness for each route (loop closure included in distance)\n",
        "        fitness = [compute_distance(route, distance_matrix) for route in population]\n",
        "\n",
        "        # Update best route\n",
        "        min_distance = min(fitness)\n",
        "        if min_distance < best_distance:\n",
        "            best_distance = min_distance\n",
        "            best_route = population[fitness.index(min_distance)]\n",
        "\n",
        "        # Generate new population\n",
        "        new_population = []\n",
        "        for _ in range(population_size):\n",
        "            parent1 = tournament_selection(population, fitness)\n",
        "            parent2 = tournament_selection(population, fitness)\n",
        "            child = order_crossover(parent1[:-1], parent2[:-1])  # Perform crossover without the last city\n",
        "\n",
        "            # Apply mutation (2-opt) with a probability\n",
        "            if random.random() < mutation_rate:\n",
        "                child = two_opt(child, distance_matrix)\n",
        "            child.append(child[0])  # Close the loop\n",
        "\n",
        "            new_population.append(child)\n",
        "\n",
        "        population = new_population\n",
        "\n",
        "    return best_route, best_distance\n",
        "\n",
        "def initialize_route(num_cities):\n",
        "    # Initialize a random route\n",
        "    route = list(range(num_cities))\n",
        "    random.shuffle(route)\n",
        "    route.append(route[0])  # Close the loop\n",
        "    return route\n"
      ]
    },
    {
      "cell_type": "code",
      "execution_count": null,
      "metadata": {
        "colab": {
          "base_uri": "https://localhost:8080/"
        },
        "id": "X-UWcSDMecQE",
        "outputId": "54254236-c829-43d5-9fa5-3f3d3439c907"
      },
      "outputs": [
        {
          "output_type": "stream",
          "name": "stdout",
          "text": [
            "Processing data for Vanuatu...\n",
            "GA + 2-opt TSP Tour for Vanuatu: [7, 0, 2, 6, 5, 3, 4, 1, 7]\n",
            "Total Distance: 1345.54 km\n",
            "\n",
            "\n",
            "Processing data for Italy...\n",
            "GA + 2-opt TSP Tour for Italy: [19, 4, 29, 10, 16, 36, 7, 24, 8, 37, 31, 17, 38, 2, 1, 11, 35, 21, 14, 15, 34, 39, 26, 27, 0, 33, 12, 30, 9, 23, 43, 41, 5, 40, 45, 44, 6, 3, 20, 18, 22, 42, 13, 28, 25, 32, 19]\n",
            "Total Distance: 4172.76 km\n",
            "\n",
            "\n",
            "Processing data for Russia...\n",
            "GA + 2-opt TSP Tour for Russia: [120, 9, 134, 85, 118, 138, 25, 145, 39, 83, 19, 161, 44, 33, 70, 77, 2, 96, 74, 143, 131, 117, 99, 100, 91, 101, 62, 166, 65, 20, 49, 55, 97, 113, 15, 11, 90, 124, 139, 40, 58, 109, 86, 1, 54, 0, 57, 17, 3, 31, 144, 23, 16, 146, 6, 151, 71, 41, 48, 162, 106, 61, 157, 82, 92, 93, 78, 132, 75, 137, 142, 36, 159, 105, 79, 104, 14, 133, 4, 123, 67, 107, 116, 47, 148, 110, 34, 147, 127, 18, 102, 87, 140, 35, 94, 122, 108, 95, 163, 43, 66, 60, 69, 50, 126, 10, 164, 165, 46, 114, 98, 27, 81, 121, 141, 21, 154, 115, 158, 51, 32, 52, 150, 68, 26, 80, 7, 119, 103, 136, 59, 160, 156, 129, 56, 13, 89, 125, 84, 112, 12, 135, 53, 88, 128, 64, 5, 130, 76, 22, 45, 111, 72, 149, 73, 30, 42, 63, 38, 24, 8, 28, 152, 153, 155, 37, 29, 120]\n",
            "Total Distance: 32885.11 km\n",
            "\n",
            "\n",
            "Processing data for US...\n",
            "GA + 2-opt TSP Tour for US: [195, 136, 80, 222, 20, 59, 313, 12, 3, 194, 116, 196, 309, 48, 322, 94, 41, 234, 77, 245, 114, 122, 323, 61, 46, 16, 198, 45, 270, 135, 210, 214, 229, 318, 62, 227, 98, 124, 175, 120, 176, 180, 220, 69, 153, 38, 144, 30, 244, 293, 253, 54, 281, 105, 292, 164, 15, 261, 14, 142, 47, 185, 189, 53, 128, 26, 60, 183, 181, 193, 174, 21, 143, 22, 296, 126, 151, 219, 286, 64, 34, 79, 167, 148, 257, 18, 249, 141, 311, 57, 273, 134, 169, 157, 304, 173, 66, 107, 240, 225, 4, 168, 103, 72, 154, 40, 133, 110, 100, 0, 177, 204, 162, 242, 2, 149, 86, 302, 108, 172, 44, 295, 271, 223, 289, 119, 87, 282, 216, 288, 200, 150, 308, 146, 215, 36, 109, 217, 78, 76, 201, 85, 315, 226, 208, 236, 96, 239, 258, 138, 243, 184, 170, 186, 294, 88, 81, 51, 260, 39, 203, 63, 132, 65, 127, 106, 265, 209, 8, 104, 158, 301, 131, 159, 267, 274, 298, 212, 259, 268, 19, 310, 56, 102, 255, 263, 266, 287, 101, 118, 264, 67, 262, 202, 24, 241, 306, 92, 305, 11, 182, 285, 84, 250, 248, 237, 277, 50, 269, 125, 9, 91, 272, 23, 238, 140, 95, 291, 307, 115, 228, 123, 254, 89, 278, 279, 187, 171, 27, 316, 231, 319, 256, 25, 97, 112, 29, 297, 317, 13, 145, 73, 43, 121, 58, 232, 6, 321, 197, 205, 33, 303, 320, 206, 211, 152, 129, 139, 300, 156, 207, 275, 93, 179, 252, 246, 74, 42, 68, 221, 280, 251, 90, 160, 155, 52, 70, 130, 99, 276, 49, 137, 188, 17, 82, 247, 165, 178, 113, 111, 147, 10, 284, 312, 75, 71, 299, 55, 1, 224, 35, 7, 290, 5, 83, 190, 218, 235, 325, 283, 314, 117, 324, 166, 161, 163, 37, 28, 233, 32, 191, 230, 192, 31, 213, 199, 195]\n",
            "Total Distance: 38885.17 km\n",
            "\n",
            "\n",
            "Processing data for China...\n",
            "GA + 2-opt TSP Tour for China: [250, 251, 583, 479, 246, 456, 242, 311, 276, 351, 663, 111, 654, 714, 491, 341, 224, 253, 374, 567, 669, 568, 463, 132, 131, 416, 50, 409, 136, 432, 20, 453, 500, 440, 278, 398, 587, 357, 693, 689, 363, 386, 607, 201, 60, 219, 63, 4, 482, 175, 389, 263, 431, 368, 228, 259, 260, 483, 170, 427, 84, 493, 713, 704, 598, 80, 499, 130, 162, 221, 236, 106, 498, 373, 231, 203, 684, 75, 649, 379, 484, 410, 405, 465, 144, 271, 720, 64, 316, 51, 200, 437, 664, 164, 205, 325, 315, 441, 511, 697, 150, 604, 489, 245, 526, 525, 296, 118, 633, 632, 383, 152, 371, 675, 586, 45, 32, 322, 227, 571, 694, 317, 107, 449, 565, 447, 558, 473, 584, 104, 86, 336, 30, 446, 122, 110, 71, 406, 163, 165, 304, 202, 354, 658, 188, 269, 17, 611, 13, 442, 167, 116, 295, 137, 725, 458, 37, 352, 624, 455, 279, 301, 381, 171, 9, 72, 367, 362, 678, 707, 297, 153, 272, 512, 333, 466, 376, 78, 420, 601, 698, 574, 641, 377, 67, 244, 69, 29, 189, 76, 661, 413, 719, 721, 385, 321, 117, 628, 448, 70, 113, 422, 62, 159, 99, 391, 495, 390, 249, 310, 517, 401, 158, 226, 135, 402, 119, 330, 559, 92, 90, 26, 560, 7, 502, 83, 313, 591, 643, 652, 706, 274, 82, 642, 702, 703, 275, 515, 490, 43, 280, 501, 461, 436, 536, 595, 181, 597, 648, 8, 518, 682, 96, 411, 575, 423, 468, 94, 638, 599, 156, 610, 700, 615, 622, 680, 48, 626, 372, 709, 261, 715, 619, 160, 380, 365, 541, 10, 68, 369, 546, 625, 578, 378, 58, 125, 190, 216, 35, 521, 214, 660, 42, 478, 204, 294, 563, 618, 230, 256, 445, 387, 291, 646, 674, 471, 337, 662, 477, 564, 588, 596, 608, 22, 185, 161, 361, 537, 426, 169, 102, 312, 347, 612, 155, 314, 602, 210, 474, 299, 15, 551, 1, 2, 653, 39, 522, 3, 298, 556, 303, 496, 49, 134, 394, 555, 300, 552, 179, 115, 673, 258, 288, 692, 267, 580, 25, 19, 705, 439, 585, 339, 647, 89, 503, 176, 572, 576, 342, 24, 120, 672, 630, 542, 180, 211, 335, 129, 370, 237, 262, 168, 528, 668, 282, 623, 666, 510, 206, 277, 553, 128, 88, 634, 609, 475, 182, 569, 345, 56, 149, 268, 350, 187, 14, 433, 589, 667, 533, 722, 723, 640, 454, 523, 617, 305, 40, 690, 708, 718, 38, 318, 44, 41, 100, 266, 326, 344, 403, 292, 199, 494, 613, 147, 366, 497, 375, 614, 103, 6, 21, 194, 459, 27, 309, 146, 716, 123, 218, 31, 388, 688, 52, 509, 549, 637, 470, 535, 220, 143, 530, 183, 531, 346, 724, 61, 444, 605, 234, 283, 338, 650, 142, 87, 418, 33, 139, 34, 59, 340, 66, 603, 382, 685, 235, 172, 629, 154, 239, 192, 573, 28, 412, 450, 232, 358, 681, 554, 16, 532, 434, 435, 514, 699, 207, 457, 469, 356, 5, 696, 516, 174, 539, 644, 399, 191, 240, 451, 23, 507, 133, 544, 233, 395, 290, 101, 198, 397, 396, 173, 414, 229, 550, 636, 359, 197, 114, 252, 264, 285, 508, 570, 481, 0, 186, 505, 677, 93, 289, 46, 419, 212, 343, 18, 543, 384, 328, 157, 513, 506, 545, 538, 540, 138, 108, 671, 492, 616, 329, 12, 287, 327, 95, 519, 36, 126, 81, 105, 711, 557, 430, 79, 421, 360, 695, 452, 639, 562, 566, 467, 178, 307, 306, 265, 438, 255, 424, 308, 196, 112, 504, 443, 645, 561, 55, 11, 148, 254, 712, 460, 193, 349, 124, 683, 600, 627, 429, 520, 620, 324, 217, 213, 534, 393, 73, 404, 293, 676, 85, 701, 657, 635, 243, 151, 606, 631, 77, 109, 529, 247, 462, 408, 686, 54, 302, 524, 476, 579, 257, 548, 177, 425, 74, 710, 415, 127, 679, 480, 487, 184, 140, 332, 97, 238, 581, 248, 273, 527, 57, 281, 355, 655, 417, 222, 98, 270, 320, 195, 286, 464, 582, 91, 223, 121, 225, 577, 594, 65, 208, 348, 670, 392, 665, 656, 47, 687, 284, 547, 215, 209, 488, 319, 323, 364, 593, 485, 53, 592, 717, 353, 331, 590, 428, 241, 621, 691, 145, 400, 141, 334, 651, 166, 486, 659, 472, 407, 250]\n",
            "Total Distance: 50987.29 km\n",
            "\n",
            "\n"
          ]
        }
      ],
      "source": [
        "def output_ga(country):\n",
        "    cities = load_cities(country)\n",
        "    distance_matrix = create_distance_matrix(cities)\n",
        "    tour, total_distance = genetic_algorithm(distance_matrix)\n",
        "\n",
        "    print(f\"GA + 2-opt TSP Tour for {country}: {tour}\")\n",
        "    print(f\"Total Distance: {total_distance:.2f} km\")\n",
        "\n",
        "for country in countries:\n",
        "    print(f\"Processing data for {country}...\")\n",
        "    output_ga(country)\n",
        "    print(\"\\n\")"
      ]
    }
  ],
  "metadata": {
    "colab": {
      "provenance": []
    },
    "kernelspec": {
      "display_name": "Python 3",
      "name": "python3"
    },
    "language_info": {
      "name": "python"
    }
  },
  "nbformat": 4,
  "nbformat_minor": 0
}